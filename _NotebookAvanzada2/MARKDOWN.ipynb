{
 "cells": [
  {
   "cell_type": "code",
   "execution_count": 1,
   "id": "72c14a2d-7889-4712-b30f-3af9a9dcdf58",
   "metadata": {},
   "outputs": [
    {
     "data": {
      "text/plain": [
       "3"
      ]
     },
     "execution_count": 1,
     "metadata": {},
     "output_type": "execute_result"
    }
   ],
   "source": [
    "1+2"
   ]
  },
  {
   "cell_type": "code",
   "execution_count": 3,
   "id": "06103619-a194-49ed-ae0c-f904e367b048",
   "metadata": {},
   "outputs": [
    {
     "data": {
      "text/plain": [
       "3"
      ]
     },
     "execution_count": 3,
     "metadata": {},
     "output_type": "execute_result"
    }
   ],
   "source": [
    "A=1+2\n",
    "A"
   ]
  },
  {
   "cell_type": "markdown",
   "id": "baca762c-5b2e-4e46-8a81-d3e759d57bd1",
   "metadata": {},
   "source": [
    "# Fernando Lopez\n",
    "## Santa Barbara\n"
   ]
  },
  {
   "cell_type": "code",
   "execution_count": null,
   "id": "2397e1b5-15c5-4292-b972-8dcbf2e38f64",
   "metadata": {},
   "outputs": [],
   "source": []
  }
 ],
 "metadata": {
  "kernelspec": {
   "display_name": "Python [conda env:base] *",
   "language": "python",
   "name": "conda-base-py"
  },
  "language_info": {
   "codemirror_mode": {
    "name": "ipython",
    "version": 3
   },
   "file_extension": ".py",
   "mimetype": "text/x-python",
   "name": "python",
   "nbconvert_exporter": "python",
   "pygments_lexer": "ipython3",
   "version": "3.12.7"
  }
 },
 "nbformat": 4,
 "nbformat_minor": 5
}
