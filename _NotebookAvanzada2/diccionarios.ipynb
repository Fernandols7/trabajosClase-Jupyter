{
 "cells": [
  {
   "cell_type": "code",
   "execution_count": 1,
   "id": "aabe40f3",
   "metadata": {},
   "outputs": [
    {
     "data": {
      "text/plain": [
       "dict"
      ]
     },
     "execution_count": 1,
     "metadata": {},
     "output_type": "execute_result"
    }
   ],
   "source": [
    "dic={}\n",
    "type(dic)"
   ]
  },
  {
   "cell_type": "code",
   "execution_count": 2,
   "id": "03400c40",
   "metadata": {},
   "outputs": [
    {
     "data": {
      "text/plain": [
       "{'Funes': 11, 'Rafa': 30, 'Cleofas': 22, 'Baruc': 28}"
      ]
     },
     "execution_count": 2,
     "metadata": {},
     "output_type": "execute_result"
    }
   ],
   "source": [
    "edades={\"Funes\": 25, \"Rafa\": 30, \"Cleofas\": 22, \"Baruc\":28}\n",
    "edades[\"Funes\"]=11\n",
    "edades"
   ]
  },
  {
   "cell_type": "code",
   "execution_count": 3,
   "id": "709f0a65",
   "metadata": {},
   "outputs": [
    {
     "data": {
      "text/plain": [
       "dict_keys(['Funes', 'Rafa', 'Cleofas', 'Baruc'])"
      ]
     },
     "execution_count": 3,
     "metadata": {},
     "output_type": "execute_result"
    }
   ],
   "source": [
    "edades.keys()"
   ]
  },
  {
   "cell_type": "code",
   "execution_count": 4,
   "id": "eab776d8",
   "metadata": {},
   "outputs": [
    {
     "data": {
      "text/plain": [
       "dict_values([11, 30, 22, 28])"
      ]
     },
     "execution_count": 4,
     "metadata": {},
     "output_type": "execute_result"
    }
   ],
   "source": [
    "edades.values()"
   ]
  },
  {
   "cell_type": "code",
   "execution_count": 5,
   "id": "8505fbeb",
   "metadata": {},
   "outputs": [
    {
     "data": {
      "text/plain": [
       "dict_items([('Funes', 11), ('Rafa', 30), ('Cleofas', 22), ('Baruc', 28)])"
      ]
     },
     "execution_count": 5,
     "metadata": {},
     "output_type": "execute_result"
    }
   ],
   "source": [
    "edades.items()"
   ]
  },
  {
   "cell_type": "code",
   "execution_count": 6,
   "id": "cee79cf1",
   "metadata": {},
   "outputs": [
    {
     "data": {
      "text/plain": [
       "11"
      ]
     },
     "execution_count": 6,
     "metadata": {},
     "output_type": "execute_result"
    }
   ],
   "source": [
    "edades.get(\"Funes\")"
   ]
  },
  {
   "cell_type": "code",
   "execution_count": 7,
   "id": "c5b85818",
   "metadata": {},
   "outputs": [
    {
     "data": {
      "text/plain": [
       "22"
      ]
     },
     "execution_count": 7,
     "metadata": {},
     "output_type": "execute_result"
    }
   ],
   "source": [
    "edades.get(\"Cleofas\")"
   ]
  }
 ],
 "metadata": {
  "kernelspec": {
   "display_name": "Python 3",
   "language": "python",
   "name": "python3"
  },
  "language_info": {
   "codemirror_mode": {
    "name": "ipython",
    "version": 3
   },
   "file_extension": ".py",
   "mimetype": "text/x-python",
   "name": "python",
   "nbconvert_exporter": "python",
   "pygments_lexer": "ipython3",
   "version": "3.13.3"
  }
 },
 "nbformat": 4,
 "nbformat_minor": 5
}
