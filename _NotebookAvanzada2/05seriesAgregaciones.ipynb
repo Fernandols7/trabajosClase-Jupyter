{
 "cells": [
  {
   "cell_type": "code",
   "execution_count": 1,
   "id": "aaf7fe3e",
   "metadata": {},
   "outputs": [
    {
     "data": {
      "text/plain": [
       "0     1\n",
       "1     2\n",
       "2    30\n",
       "3     4\n",
       "4     5\n",
       "dtype: int64"
      ]
     },
     "execution_count": 1,
     "metadata": {},
     "output_type": "execute_result"
    }
   ],
   "source": [
    "import pandas as pd\n",
    "numeros=pd.Series([1, 2, 30, 4, 5])\n",
    "numeros"
   ]
  },
  {
   "cell_type": "code",
   "execution_count": 2,
   "id": "2ac273f6",
   "metadata": {},
   "outputs": [
    {
     "name": "stdout",
     "output_type": "stream",
     "text": [
      "El promedio de los números es: 8.4\n"
     ]
    }
   ],
   "source": [
    "promedio=numeros.mean()\n",
    "print(f\"El promedio de los números es: {promedio}\")"
   ]
  },
  {
   "cell_type": "code",
   "execution_count": 5,
   "id": "ea68f20d",
   "metadata": {},
   "outputs": [
    {
     "name": "stdout",
     "output_type": "stream",
     "text": [
      "El total de los números es: 42\n"
     ]
    }
   ],
   "source": [
    "total=numeros.sum()\n",
    "print(f\"El total de los números es: {total}\")"
   ]
  },
  {
   "cell_type": "code",
   "execution_count": 6,
   "id": "da3f011c",
   "metadata": {},
   "outputs": [
    {
     "name": "stdout",
     "output_type": "stream",
     "text": [
      "El numero máximo es: 30\n",
      "El numero mínimo es: 1\n"
     ]
    }
   ],
   "source": [
    "maximo=numeros.max()\n",
    "print(f\"El numero máximo es: {maximo}\")\n",
    "minimo=numeros.min()\n",
    "print(f\"El numero mínimo es: {minimo}\")"
   ]
  }
 ],
 "metadata": {
  "kernelspec": {
   "display_name": "Python 3",
   "language": "python",
   "name": "python3"
  },
  "language_info": {
   "codemirror_mode": {
    "name": "ipython",
    "version": 3
   },
   "file_extension": ".py",
   "mimetype": "text/x-python",
   "name": "python",
   "nbconvert_exporter": "python",
   "pygments_lexer": "ipython3",
   "version": "3.13.3"
  }
 },
 "nbformat": 4,
 "nbformat_minor": 5
}
