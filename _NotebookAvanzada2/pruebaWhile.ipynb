{
 "cells": [
  {
   "cell_type": "code",
   "execution_count": 1,
   "id": "bc2811b8",
   "metadata": {},
   "outputs": [],
   "source": [
    "def convLempiras_DolaresEuros():\n",
    "    Lempiras = float(input(\"Ingrese la cantidad de lempiras a convertir: \"))\n",
    "    Dolares = Lempiras / 25\n",
    "    Euros = Lempiras / 35\n",
    "    print(f\"{Lempiras} lempiras son: {Dolares} dolares y {Euros} euros\")\n",
    "\n",
    "def convDolares_LempirasEuros():\n",
    "    Dolares = float(input(\"Ingrese la cantidad de dolares a convertir: \"))\n",
    "    Lempitas = Dolares * 25\n",
    "    Euros = Dolares * (25 / 35)\n",
    "    print(f\"{Dolares} dolares son: {Lempitas} lempiras y {Euros} euros\")\n",
    "\n",
    "def convEuros_LempirasDolares():\n",
    "    Euros = float(input(\"Ingrese la cantidad de euros a convertir: \"))\n",
    "    Lempitas = Euros * 35\n",
    "    Dolares = Euros * (35 / 25)\n",
    "    print(f\"{Euros} euros son: {Lempitas} lempiras y {Dolares} dolares\")"
   ]
  },
  {
   "cell_type": "code",
   "execution_count": 2,
   "id": "34285cf2",
   "metadata": {},
   "outputs": [
    {
     "name": "stdout",
     "output_type": "stream",
     "text": [
      "MENU DE OPCIONES:\n",
      "1. Convertir lempiras a dolares y euros\n",
      "2. Convertir dolares a lempiras y euros\n",
      "3. Convertir Euros a lempiras y dolares\n",
      "4. Salir\n",
      "Opcion no valida\n",
      "\n",
      "MENU DE OPCIONES:\n",
      "1. Convertir lempiras a dolares y euros\n",
      "2. Convertir dolares a lempiras y euros\n",
      "3. Convertir Euros a lempiras y dolares\n",
      "4. Salir\n",
      "Fin del programa, Adios\n"
     ]
    }
   ],
   "source": [
    "while True:\n",
    "\n",
    "    print(\"MENU DE OPCIONES:\")\n",
    "    print(\"1. Convertir lempiras a dolares y euros\")\n",
    "    print(\"2. Convertir dolares a lempiras y euros\")\n",
    "    print(\"3. Convertir Euros a lempiras y dolares\")\n",
    "    print(\"4. Salir\")\n",
    "\n",
    "    opcion = input(\"Seleccione una opcion (1-4): \")\n",
    "\n",
    "    if opcion == \"1\":\n",
    "        convLempiras_DolaresEuros()\n",
    "    elif opcion == \"2\":\n",
    "        convDolares_LempirasEuros()\n",
    "    elif opcion == \"3\":\n",
    "        convEuros_LempirasDolares()\n",
    "    elif opcion == \"4\":\n",
    "        print(\"Fin del programa, Adios\")\n",
    "        break\n",
    "    else:\n",
    "        print(\"Opcion no valida\")\n",
    "\n",
    "    print()"
   ]
  }
 ],
 "metadata": {
  "kernelspec": {
   "display_name": "Python 3",
   "language": "python",
   "name": "python3"
  },
  "language_info": {
   "codemirror_mode": {
    "name": "ipython",
    "version": 3
   },
   "file_extension": ".py",
   "mimetype": "text/x-python",
   "name": "python",
   "nbconvert_exporter": "python",
   "pygments_lexer": "ipython3",
   "version": "3.13.3"
  }
 },
 "nbformat": 4,
 "nbformat_minor": 5
}
