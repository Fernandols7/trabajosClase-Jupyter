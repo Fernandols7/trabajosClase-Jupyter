{
 "cells": [
  {
   "cell_type": "code",
   "execution_count": 5,
   "id": "3fa47b37",
   "metadata": {},
   "outputs": [],
   "source": [
    "# crear un diccionario donde se guarde la compra de un producto "
   ]
  },
  {
   "cell_type": "code",
   "execution_count": 6,
   "id": "4b5443fb",
   "metadata": {},
   "outputs": [
    {
     "name": "stdout",
     "output_type": "stream",
     "text": [
      "Factura:\n",
      "producto: Laptop\n",
      "Cantidad: 2\n",
      "Precio: 1500\n",
      "Subtotal: 3000\n",
      "Descuento: 300.0\n",
      "Impuesto: 450.0\n",
      "Total: 3150.0\n"
     ]
    }
   ],
   "source": [
    "clente = \"Fernando Lopez\"\n",
    "producto = \"Laptop\"\n",
    "cantidad = int(input(\"Ingrese la cantidad de producto: \"))\n",
    "precio = 1500\n",
    "subtotal = cantidad * precio\n",
    "descuento = 0.10 * subtotal  # 10% de descuento\n",
    "impuesto  = 0.15 * subtotal  # 15% de impuesto\n",
    "impuesto\n",
    "total = subtotal - descuento + impuesto\n",
    "\n",
    "# Crear un diccionario para almacenar la factura\n",
    "factura = {\"producto\": producto,\n",
    "            \"Cantidad\": cantidad,\n",
    "            \"Precio\": precio,\n",
    "            \"Subtotal\": subtotal,\n",
    "            \"Descuento\": descuento,\n",
    "            \"Impuesto\": impuesto,\n",
    "            \"Total\": total\n",
    "            }\n",
    "\n",
    "\n",
    "# Imprimir el diccionario\n",
    "print(\"Factura:\")\n",
    "for clave, valor in factura.items():\n",
    "    print(f\"{clave}: {valor}\")"
   ]
  },
  {
   "cell_type": "code",
   "execution_count": 8,
   "id": "deb81233",
   "metadata": {},
   "outputs": [],
   "source": [
    "import pandas as pd\n",
    "df = pd.DataFrame([factura])\n"
   ]
  }
 ],
 "metadata": {
  "kernelspec": {
   "display_name": "Python 3",
   "language": "python",
   "name": "python3"
  },
  "language_info": {
   "codemirror_mode": {
    "name": "ipython",
    "version": 3
   },
   "file_extension": ".py",
   "mimetype": "text/x-python",
   "name": "python",
   "nbconvert_exporter": "python",
   "pygments_lexer": "ipython3",
   "version": "3.13.3"
  }
 },
 "nbformat": 4,
 "nbformat_minor": 5
}
